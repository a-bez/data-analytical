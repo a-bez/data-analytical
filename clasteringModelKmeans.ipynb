{
 "cells": [
  {
   "cell_type": "code",
   "execution_count": 1,
   "id": "3532b0ff",
   "metadata": {},
   "outputs": [
    {
     "data": {
      "text/html": [
       "<div>\n",
       "<style scoped>\n",
       "    .dataframe tbody tr th:only-of-type {\n",
       "        vertical-align: middle;\n",
       "    }\n",
       "\n",
       "    .dataframe tbody tr th {\n",
       "        vertical-align: top;\n",
       "    }\n",
       "\n",
       "    .dataframe thead th {\n",
       "        text-align: right;\n",
       "    }\n",
       "</style>\n",
       "<table border=\"1\" class=\"dataframe\">\n",
       "  <thead>\n",
       "    <tr style=\"text-align: right;\">\n",
       "      <th></th>\n",
       "      <th>clean_text</th>\n",
       "      <th>is_depression</th>\n",
       "    </tr>\n",
       "  </thead>\n",
       "  <tbody>\n",
       "    <tr>\n",
       "      <th>0</th>\n",
       "      <td>we understand that most people who reply immed...</td>\n",
       "      <td>1</td>\n",
       "    </tr>\n",
       "    <tr>\n",
       "      <th>1</th>\n",
       "      <td>welcome to r depression s check in post a plac...</td>\n",
       "      <td>1</td>\n",
       "    </tr>\n",
       "    <tr>\n",
       "      <th>2</th>\n",
       "      <td>anyone else instead of sleeping more when depr...</td>\n",
       "      <td>1</td>\n",
       "    </tr>\n",
       "    <tr>\n",
       "      <th>3</th>\n",
       "      <td>i ve kind of stuffed around a lot in my life d...</td>\n",
       "      <td>1</td>\n",
       "    </tr>\n",
       "    <tr>\n",
       "      <th>4</th>\n",
       "      <td>sleep is my greatest and most comforting escap...</td>\n",
       "      <td>1</td>\n",
       "    </tr>\n",
       "    <tr>\n",
       "      <th>...</th>\n",
       "      <td>...</td>\n",
       "      <td>...</td>\n",
       "    </tr>\n",
       "    <tr>\n",
       "      <th>7726</th>\n",
       "      <td>is that snow</td>\n",
       "      <td>0</td>\n",
       "    </tr>\n",
       "    <tr>\n",
       "      <th>7727</th>\n",
       "      <td>moulin rouge mad me cry once again</td>\n",
       "      <td>0</td>\n",
       "    </tr>\n",
       "    <tr>\n",
       "      <th>7728</th>\n",
       "      <td>trying to shout but can t find people on the list</td>\n",
       "      <td>0</td>\n",
       "    </tr>\n",
       "    <tr>\n",
       "      <th>7729</th>\n",
       "      <td>ughh can t find my red sox hat got ta wear thi...</td>\n",
       "      <td>0</td>\n",
       "    </tr>\n",
       "    <tr>\n",
       "      <th>7730</th>\n",
       "      <td>slept wonderfully finally tried swatching for ...</td>\n",
       "      <td>0</td>\n",
       "    </tr>\n",
       "  </tbody>\n",
       "</table>\n",
       "<p>7731 rows × 2 columns</p>\n",
       "</div>"
      ],
      "text/plain": [
       "                                             clean_text  is_depression\n",
       "0     we understand that most people who reply immed...              1\n",
       "1     welcome to r depression s check in post a plac...              1\n",
       "2     anyone else instead of sleeping more when depr...              1\n",
       "3     i ve kind of stuffed around a lot in my life d...              1\n",
       "4     sleep is my greatest and most comforting escap...              1\n",
       "...                                                 ...            ...\n",
       "7726                                       is that snow              0\n",
       "7727                 moulin rouge mad me cry once again              0\n",
       "7728  trying to shout but can t find people on the list              0\n",
       "7729  ughh can t find my red sox hat got ta wear thi...              0\n",
       "7730  slept wonderfully finally tried swatching for ...              0\n",
       "\n",
       "[7731 rows x 2 columns]"
      ]
     },
     "execution_count": 1,
     "metadata": {},
     "output_type": "execute_result"
    }
   ],
   "source": [
    "import pandas as pd\n",
    "from sklearn.feature_extraction.text import TfidfVectorizer\n",
    "from sklearn.cluster import KMeans\n",
    "\n",
    "# Load the text data\n",
    "text_data = pd.read_csv('D:\\python_projects\\sentimentAnalysis\\dipression_finder\\dataset\\depression_dataset_reddit_cleaned.csv')\n",
    "text_data"
   ]
  },
  {
   "cell_type": "code",
   "execution_count": 4,
   "id": "88bfc745",
   "metadata": {},
   "outputs": [],
   "source": [
    "# Create a TF-IDF vectorizer\n",
    "vectorizer = TfidfVectorizer(stop_words='english')\n",
    "\n",
    "# Vectorize the text data\n",
    "X = vectorizer.fit_transform(text_data['clean_text'])"
   ]
  },
  {
   "cell_type": "code",
   "execution_count": 5,
   "id": "9cad89d2",
   "metadata": {},
   "outputs": [],
   "source": [
    "# Define the number of clusters\n",
    "k = 3\n",
    "\n",
    "# Cluster the text data using K-means\n",
    "kmeans = KMeans(n_clusters=k, random_state=0)\n",
    "clusters = kmeans.fit_predict(X)"
   ]
  },
  {
   "cell_type": "code",
   "execution_count": 7,
   "id": "2dda6066",
   "metadata": {},
   "outputs": [
    {
     "data": {
      "text/plain": [
       "(                                          clean_text  is_depression  cluster\n",
       " 0  we understand that most people who reply immed...              1        1\n",
       " 1  welcome to r depression s check in post a plac...              1        2\n",
       " 2  anyone else instead of sleeping more when depr...              1        0\n",
       " 3  i ve kind of stuffed around a lot in my life d...              1        1\n",
       " 4  sleep is my greatest and most comforting escap...              1        1,\n",
       " ['clean_text', 'is_depression', 'cluster'])"
      ]
     },
     "execution_count": 7,
     "metadata": {},
     "output_type": "execute_result"
    }
   ],
   "source": [
    "# Add the cluster labels to the text data\n",
    "text_data['cluster'] = clusters\n",
    "text_data.head(),text_data.columns.tolist()"
   ]
  },
  {
   "cell_type": "code",
   "execution_count": 8,
   "id": "893ed463",
   "metadata": {},
   "outputs": [
    {
     "data": {
      "text/plain": [
       "(                                           clean_text  is_depression  cluster\n",
       " 2   anyone else instead of sleeping more when depr...              1        0\n",
       " 12  i tried to help his family abandoned him so it...              1        0\n",
       " 24  i m done et je n essaie m me plus j fatigu de ...              1        0\n",
       " 27  it s so pointless for me to still be alive my ...              1        0\n",
       " 28  so a a kid i moved around a lot because my dad...              1        0,\n",
       "                                           clean_text  is_depression  cluster\n",
       " 0  we understand that most people who reply immed...              1        1\n",
       " 3  i ve kind of stuffed around a lot in my life d...              1        1\n",
       " 4  sleep is my greatest and most comforting escap...              1        1\n",
       " 5  i m year old turning soon in a few month i liv...              1        1\n",
       " 6  i live alone and despite me being prone to lon...              1        1,\n",
       "                                             clean_text  is_depression  cluster\n",
       " 1    welcome to r depression s check in post a plac...              1        2\n",
       " 118  my bf is in a depressive episode atm i m still...              1        2\n",
       " 122  i m pretty sure she ha depression i m a good l...              1        2\n",
       " 184  i have been caught in a cycle of depression v ...              1        2\n",
       " 233  yeah two people fucked and now i m here i know...              1        2)"
      ]
     },
     "execution_count": 8,
     "metadata": {},
     "output_type": "execute_result"
    }
   ],
   "source": [
    "cls0_df = text_data[text_data['cluster'] == 0]\n",
    "cls1_df = text_data[text_data['cluster'] == 1]\n",
    "cls2_df = text_data[text_data['cluster'] == 2]\n",
    "cls0_df.head(),cls1_df.head(),cls2_df.head()"
   ]
  },
  {
   "cell_type": "code",
   "execution_count": 9,
   "id": "90fd6a4b",
   "metadata": {},
   "outputs": [
    {
     "data": {
      "text/plain": [
       "(         clean_text  is_depression\n",
       " cluster                           \n",
       " 0              4807           4807,\n",
       "          clean_text  is_depression\n",
       " cluster                           \n",
       " 1              2090           2090,\n",
       "          clean_text  is_depression\n",
       " cluster                           \n",
       " 2               834            834)"
      ]
     },
     "execution_count": 9,
     "metadata": {},
     "output_type": "execute_result"
    }
   ],
   "source": [
    "# подсчитать количество записей в каждом кластере\n",
    "friq_row_cls0= cls0_df.groupby('cluster').count()\n",
    "friq_row_cls1= cls1_df.groupby('cluster').count()\n",
    "friq_row_cls2= cls2_df.groupby('cluster').count()\n",
    "friq_row_cls0,friq_row_cls1,friq_row_cls2"
   ]
  },
  {
   "cell_type": "code",
   "execution_count": null,
   "id": "6ee18614",
   "metadata": {},
   "outputs": [],
   "source": []
  }
 ],
 "metadata": {
  "kernelspec": {
   "display_name": "Python 3 (ipykernel)",
   "language": "python",
   "name": "python3"
  },
  "language_info": {
   "codemirror_mode": {
    "name": "ipython",
    "version": 3
   },
   "file_extension": ".py",
   "mimetype": "text/x-python",
   "name": "python",
   "nbconvert_exporter": "python",
   "pygments_lexer": "ipython3",
   "version": "3.9.7"
  }
 },
 "nbformat": 4,
 "nbformat_minor": 5
}
